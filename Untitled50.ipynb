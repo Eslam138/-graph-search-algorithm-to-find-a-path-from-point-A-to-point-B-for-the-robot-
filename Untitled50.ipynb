{
  "nbformat": 4,
  "nbformat_minor": 0,
  "metadata": {
    "colab": {
      "name": "Untitled50.ipynb",
      "private_outputs": true,
      "provenance": [],
      "collapsed_sections": []
    },
    "kernelspec": {
      "name": "python3",
      "display_name": "Python 3"
    },
    "language_info": {
      "name": "python"
    }
  },
  "cells": [
    {
      "cell_type": "code",
      "execution_count": null,
      "metadata": {
        "id": "6b5x4IB-ZgJm"
      },
      "outputs": [],
      "source": [
        "from queue import Queue\n",
        "import matplotlib.pyplot as plt\n",
        "import numpy as np"
      ]
    },
    {
      "cell_type": "code",
      "source": [
        "mapp = np.zeros((1000,1000))\n",
        "mapp = mapp.astype(int)\n",
        "mapp"
      ],
      "metadata": {
        "id": "2zIvc_N2Z7bE"
      },
      "execution_count": null,
      "outputs": []
    },
    {
      "cell_type": "code",
      "source": [
        "target= 3\n",
        "mapp[950][950]=3"
      ],
      "metadata": {
        "id": "WvWQnStgaDer"
      },
      "execution_count": null,
      "outputs": []
    },
    {
      "cell_type": "code",
      "source": [
        "mapp.shape"
      ],
      "metadata": {
        "id": "2bWhY0KXaHIx"
      },
      "execution_count": null,
      "outputs": []
    },
    {
      "cell_type": "code",
      "source": [
        "mapp[0:200,800:1000]=1\n",
        "mapp[400:600,0:800]=1\n",
        "mapp[700:800,600:1000]=1"
      ],
      "metadata": {
        "id": "1T7KwoByaJ6O"
      },
      "execution_count": null,
      "outputs": []
    },
    {
      "cell_type": "markdown",
      "source": [
        "Algorithm for finding shortest path"
      ],
      "metadata": {
        "id": "F9eaPYS9bB-c"
      }
    },
    {
      "cell_type": "code",
      "source": [
        "import collections\n",
        "\n",
        "def bfs(grid, start):\n",
        "    queue = collections.deque([[start]])\n",
        "    seen = set([start])\n",
        "\n",
        "    # this contains all the paths found\n",
        "    found_paths = []\n",
        "\n",
        "    # search flag recording the shortest distance\n",
        "    min_path_length = None\n",
        "\n",
        "    while queue:\n",
        "        path = queue.popleft()\n",
        "\n",
        "        # check if we already passed the min_path_length's level\n",
        "        if min_path_length is not None and min_path_length < len(path):\n",
        "            break\n",
        "\n",
        "        x, y = path[-1]\n",
        "        if grid[x][y] == 3:\n",
        "            # check if this is the first encounter of min_path\n",
        "            if min_path_length is None: min_path_length = len(path)\n",
        "\n",
        "            # we can double check len(path) == min_path_length before adding path\n",
        "            # but that wouldn't be needed if this implementation is correct\n",
        "            found_paths.append(path)\n",
        "\n",
        "        for x2, y2 in ((x+10,y), (x,y+10), (x,y-10)):\n",
        "            if 0 <= x2 < len(grid[0]) and 0 <= y2 < len(grid) and  grid[x2][y2] != 1 and (x2, y2) not in seen:\n",
        "                queue.append(path + [(x2, y2)])\n",
        "                seen.add((x2, y2))\n",
        "\n",
        "    return found_paths"
      ],
      "metadata": {
        "id": "qkq9I7b4Zy0L"
      },
      "execution_count": null,
      "outputs": []
    },
    {
      "cell_type": "code",
      "source": [
        "path=bfs(mapp, (10,10))\n",
        "path"
      ],
      "metadata": {
        "id": "3QcYi5YeaTNT"
      },
      "execution_count": null,
      "outputs": []
    },
    {
      "cell_type": "code",
      "source": [
        "len(path)"
      ],
      "metadata": {
        "id": "ajDI2k3LaWL2"
      },
      "execution_count": null,
      "outputs": []
    },
    {
      "cell_type": "code",
      "source": [
        "len(path[0])"
      ],
      "metadata": {
        "id": "b9rPF8S0aaah"
      },
      "execution_count": null,
      "outputs": []
    },
    {
      "cell_type": "code",
      "source": [
        "list=[]\n",
        "for i in range(len(path[0])):\n",
        "  list.append(path[0][i])"
      ],
      "metadata": {
        "id": "k5AoXYn-aj5s"
      },
      "execution_count": null,
      "outputs": []
    },
    {
      "cell_type": "code",
      "source": [
        "len(list)"
      ],
      "metadata": {
        "id": "bQQKHz0hamnH"
      },
      "execution_count": null,
      "outputs": []
    },
    {
      "cell_type": "code",
      "source": [
        "x= []\n",
        "y= []\n",
        "for i in range(len(list)):\n",
        "    x.append(list[i][0])\n",
        "    y.append(list[i][1])"
      ],
      "metadata": {
        "id": "BiNVbZxaatCc"
      },
      "execution_count": null,
      "outputs": []
    },
    {
      "cell_type": "code",
      "source": [
        "ax=plt.gca()\n",
        "ax.set_ylim(ax.get_ylim()[::-1])\n",
        "ax.xaxis.set_ticks(np.arange(0, 1200, 100))\n",
        "ax.yaxis.set_ticks(np.arange(0, 1200, 100))\n",
        "ax.xaxis.tick_top()\n",
        "plt.scatter(y,x);"
      ],
      "metadata": {
        "id": "dS2_YanEav1Q"
      },
      "execution_count": null,
      "outputs": []
    },
    {
      "cell_type": "code",
      "source": [
        "ax=plt.gca()\n",
        "ax.xaxis.set_ticks(np.arange(0, 1200, 100))\n",
        "ax.yaxis.set_ticks(np.arange(0, 1200, 100))\n",
        "ax.xaxis.tick_top()\n",
        "plt.imshow(mapp);\n",
        "plt.scatter(y,x);"
      ],
      "metadata": {
        "id": "8phgYJplZ0Mo"
      },
      "execution_count": null,
      "outputs": []
    },
    {
      "cell_type": "markdown",
      "source": [
        "Algorithm for finding all path that can walking it "
      ],
      "metadata": {
        "id": "_vHd2SmJbwYb"
      }
    },
    {
      "cell_type": "code",
      "source": [
        "def BFS (grid):\n",
        "    end = len(grid)\n",
        "    start =len(grid[0])\n",
        "    qe = Queue()\n",
        "    A = qe.put((10,10))\n",
        "    seen = set()\n",
        "    path= []\n",
        "    \n",
        " \n",
        "    #checking while there are elements\n",
        "    while not qe.empty():\n",
        "        #extract directions of x,y coordinates that currenlty looking at\n",
        "        x, y = qe.get()\n",
        "        #path.append((x, y))\n",
        "        #check if point reached\n",
        "        if grid[x][y]== target:\n",
        "            return path\n",
        "        \n",
        "        #if vistited or not\n",
        "        if (x,y) in seen:\n",
        "            continue\n",
        "        else:\n",
        "            seen.add((x, y))\n",
        "            path.append((x, y))\n",
        "        \n",
        "        #iterate for all neighbours of x,y\n",
        "        for (dx,dy) in [(10,0),(0,10),(0,-10)]:\n",
        "            #check if there is no obstacle\n",
        "            if grid[x][y] == 0:\n",
        "                if 0<= dx+x <= end-1 and 0 <= dy+y <= start-1 : #check not overstepping boundaries\n",
        "                    qe.put((x+dx,y+dy))\n",
        "                    \n",
        "\n",
        "    return -1\n",
        "    "
      ],
      "metadata": {
        "id": "r_WTErXubUiL"
      },
      "execution_count": null,
      "outputs": []
    },
    {
      "cell_type": "code",
      "source": [
        "path= BFS(mapp)\n",
        "path"
      ],
      "metadata": {
        "id": "daivcS3wbbA3"
      },
      "execution_count": null,
      "outputs": []
    },
    {
      "cell_type": "code",
      "source": [
        "len(path)"
      ],
      "metadata": {
        "id": "noXIfrzJbfDQ"
      },
      "execution_count": null,
      "outputs": []
    },
    {
      "cell_type": "code",
      "source": [
        "x= []\n",
        "y= []\n",
        "for i in range(len(path)):\n",
        "    x.append(path[i][0])\n",
        "    y.append(path[i][1])"
      ],
      "metadata": {
        "id": "yWnnPUFJbi29"
      },
      "execution_count": null,
      "outputs": []
    },
    {
      "cell_type": "code",
      "source": [
        "ax=plt.gca()\n",
        "ax.set_ylim(ax.get_ylim()[::-1])\n",
        "ax.xaxis.set_ticks(np.arange(0, 1200, 100))\n",
        "ax.yaxis.set_ticks(np.arange(0, 1200, 100))\n",
        "ax.xaxis.tick_top()\n",
        "plt.scatter(y,x);"
      ],
      "metadata": {
        "id": "KcQ3oBvpbm-d"
      },
      "execution_count": null,
      "outputs": []
    },
    {
      "cell_type": "code",
      "source": [
        "ax=plt.gca()\n",
        "ax.xaxis.set_ticks(np.arange(0, 1200, 100))\n",
        "ax.yaxis.set_ticks(np.arange(0, 1200, 100))\n",
        "ax.xaxis.tick_top()\n",
        "plt.imshow(mapp);"
      ],
      "metadata": {
        "id": "MoRDrcbjboUH"
      },
      "execution_count": null,
      "outputs": []
    }
  ]
}